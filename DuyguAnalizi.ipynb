{
  "nbformat": 4,
  "nbformat_minor": 0,
  "metadata": {
    "accelerator": "GPU",
    "colab": {
      "name": "DuyguAnalizi.ipynb",
      "provenance": [],
      "collapsed_sections": [],
      "mount_file_id": "1_tAiaM2b0nX1jY59aLzXTx7vqUd0dQ9y",
      "authorship_tag": "ABX9TyMzGz59+nic6kQPA1iF3DDk",
      "include_colab_link": true
    },
    "kernelspec": {
      "display_name": "Python 3",
      "name": "python3"
    }
  },
  "cells": [
    {
      "cell_type": "markdown",
      "metadata": {
        "id": "view-in-github",
        "colab_type": "text"
      },
      "source": [
        "<a href=\"https://colab.research.google.com/github/merveoktay/Sentiment-Analysis-With-Natural-Language-Processing/blob/main/DuyguAnalizi.ipynb\" target=\"_parent\"><img src=\"https://colab.research.google.com/assets/colab-badge.svg\" alt=\"Open In Colab\"/></a>"
      ]
    },
    {
      "cell_type": "code",
      "metadata": {
        "id": "mvMDn90S-Z35"
      },
      "source": [
        "from random import shuffle\n",
        "\n",
        "import gensim\n",
        "from gensim import utils\n",
        "from gensim.models.doc2vec import TaggedDocument\n",
        "from gensim.models import Doc2Vec\n",
        "\n",
        "import numpy\n",
        "\n",
        "from sklearn.linear_model import LogisticRegression"
      ],
      "execution_count": null,
      "outputs": []
    },
    {
      "cell_type": "code",
      "metadata": {
        "id": "9_d398HwI6Vj"
      },
      "source": [
        "class TaggedLineSentence(object):\n",
        "    def __init__(self, sources):\n",
        "        self.sources = sources\n",
        "\n",
        "        flipped = {}\n",
        "\n",
        "        for key, value in sources.items():\n",
        "            if value not in flipped:\n",
        "                flipped[value] = [key]\n",
        "            else:\n",
        "                raise Exception('Non-unique prefix encountered')\n",
        "\n",
        "    def __iter__(self):\n",
        "        for source, prefix in self.sources.items():\n",
        "            with utils.smart_open(source) as fin:\n",
        "                for item_no, line in enumerate(fin):\n",
        "                    yield TaggedDocument(words=utils.to_unicode(line).split(), tags=[prefix + '_%s' % item_no])\n",
        "\n",
        "    def to_array(self):\n",
        "        self.sentences = []\n",
        "        for source, prefix in self.sources.items():\n",
        "            with utils.smart_open(source) as fin:\n",
        "                for item_no, line in enumerate(fin):\n",
        "                    self.sentences.append(TaggedDocument(words=utils.to_unicode(line).split(), tags=[prefix + '_%s' % item_no]))\n",
        "        return self.sentences\n",
        "\n",
        "    def shuffle_sentences(self):\n",
        "        return shuffle(self.sentences)"
      ],
      "execution_count": null,
      "outputs": []
    },
    {
      "cell_type": "code",
      "metadata": {
        "id": "bMyPydTYK3y4"
      },
      "source": [
        "sources = {'test-neg.txt':'TEST_NEG', 'test-pos.txt':'TEST_POS', 'train-neg.txt':'TRAIN_NEG', 'train-pos.txt':'TRAIN_POS', 'train-unsup.txt':'TRAIN_UNS'}\n",
        "\n",
        "sentences = TaggedLineSentence(sources)"
      ],
      "execution_count": null,
      "outputs": []
    },
    {
      "cell_type": "code",
      "metadata": {
        "id": "OhcgTkxzK8Tb"
      },
      "source": [
        "model = gensim.models.Doc2Vec(min_count=1, window=10, vector_size=100, sample=1e-4, negative=5, workers=7,epochs=10)"
      ],
      "execution_count": null,
      "outputs": []
    },
    {
      "cell_type": "code",
      "metadata": {
        "id": "Ve-qiXb18esq"
      },
      "source": [
        "model.build_vocab(sentences.to_array())"
      ],
      "execution_count": null,
      "outputs": []
    },
    {
      "cell_type": "code",
      "metadata": {
        "id": "UGQAI0AsK_IL"
      },
      "source": [
        "\n",
        "for epoch in range(10):\n",
        "    sentences.shuffle_sentences()\n",
        "    model.train(sentences.sentences,total_examples=model.corpus_count, epochs=model.epochs)"
      ],
      "execution_count": null,
      "outputs": []
    },
    {
      "cell_type": "code",
      "metadata": {
        "colab": {
          "base_uri": "https://localhost:8080/"
        },
        "id": "Sfgf-abALCqB",
        "outputId": "6a9a8dfd-3d68-46a7-e709-a3d4e12482d6"
      },
      "source": [
        "model.most_similar('bad')"
      ],
      "execution_count": null,
      "outputs": [
        {
          "output_type": "stream",
          "text": [
            "/usr/local/lib/python3.6/dist-packages/ipykernel_launcher.py:1: DeprecationWarning: Call to deprecated `most_similar` (Method will be removed in 4.0.0, use self.wv.most_similar() instead).\n",
            "  \"\"\"Entry point for launching an IPython kernel.\n"
          ],
          "name": "stderr"
        },
        {
          "output_type": "execute_result",
          "data": {
            "text/plain": [
              "[('horrible', 0.768563985824585),\n",
              " ('terrible', 0.7664307951927185),\n",
              " ('awful', 0.7474057674407959),\n",
              " ('lousy', 0.7349801063537598),\n",
              " ('good', 0.7325852513313293),\n",
              " ('poor', 0.6781084537506104),\n",
              " ('crappy', 0.6780505180358887),\n",
              " ('stupid', 0.6642593145370483),\n",
              " ('lame', 0.6439577341079712),\n",
              " ('abysmal', 0.6265741586685181)]"
            ]
          },
          "metadata": {
            "tags": []
          },
          "execution_count": 31
        }
      ]
    },
    {
      "cell_type": "code",
      "metadata": {
        "colab": {
          "base_uri": "https://localhost:8080/"
        },
        "id": "vCzZk4ECLG7_",
        "outputId": "356d96df-ce8e-4df7-e3ea-ecc3fce25ca3"
      },
      "source": [
        "model.docvecs['TEST_POS_1']"
      ],
      "execution_count": null,
      "outputs": [
        {
          "output_type": "execute_result",
          "data": {
            "text/plain": [
              "array([-0.81932825,  1.1658907 , -0.131721  , -0.99137104,  1.0851194 ,\n",
              "       -0.52426493, -1.655419  ,  3.3599055 , -0.5064539 ,  4.6183505 ,\n",
              "        1.4380053 , -0.18707235,  1.2179976 ,  3.1181254 , -2.1045868 ,\n",
              "       -0.03082474,  1.2459667 ,  2.0850515 ,  2.827038  , -2.566438  ,\n",
              "       -3.5046918 , -2.5224845 , -2.3603911 , -2.6857278 , -1.603105  ,\n",
              "       -0.84064955, -1.8690617 ,  1.7854699 , -2.2160635 ,  3.647716  ,\n",
              "       -2.5879774 , -1.5349429 ,  1.3413051 ,  1.1177057 , -2.1046093 ,\n",
              "        3.583703  ,  0.13615225,  0.22421911, -0.31142008,  0.5751923 ,\n",
              "       -0.8677877 , -1.2149892 , -3.2864916 ,  0.62466496,  0.03546249,\n",
              "       -2.2007332 ,  0.75940526,  1.8153694 , -0.2088404 , -1.4928386 ,\n",
              "       -1.9353749 ,  2.8752623 , -0.37913182,  1.4065211 ,  0.25453573,\n",
              "       -0.91164446,  3.1279285 ,  2.6503124 , -0.5448196 ,  0.8666329 ,\n",
              "        2.0531476 ,  0.73882806,  2.4862692 , -1.314558  , -2.3144603 ,\n",
              "       -1.8327188 , -3.9278417 , -1.0618027 ,  0.59809345,  1.8893126 ,\n",
              "       -2.16308   ,  0.82724017, -1.0590628 ,  0.6967172 , -2.360282  ,\n",
              "        2.8208451 ,  2.9941428 , -0.9593772 ,  0.8658933 ,  3.792172  ,\n",
              "        0.80319065,  1.8385929 , -2.1192675 ,  2.6302998 ,  1.9101702 ,\n",
              "        0.93068063,  0.71504784,  2.0260503 , -3.8119233 ,  0.6106898 ,\n",
              "        2.051179  , -1.4634072 , -4.0862083 ,  2.9823606 ,  0.21584241,\n",
              "        1.0821604 , -0.510118  , -1.1195846 , -1.2705616 , -1.4446453 ],\n",
              "      dtype=float32)"
            ]
          },
          "metadata": {
            "tags": []
          },
          "execution_count": 32
        }
      ]
    },
    {
      "cell_type": "code",
      "metadata": {
        "id": "Q1dN55EkLLep"
      },
      "source": [
        "\n",
        "model.save('./imdb.d2v')"
      ],
      "execution_count": null,
      "outputs": []
    },
    {
      "cell_type": "code",
      "metadata": {
        "id": "i7K_exdNLOIo"
      },
      "source": [
        "model = Doc2Vec.load('./imdb.d2v')"
      ],
      "execution_count": null,
      "outputs": []
    },
    {
      "cell_type": "code",
      "metadata": {
        "id": "jK6nWRYrLRRQ"
      },
      "source": [
        "train_arrays = numpy.zeros((25000, 100))\n",
        "train_labels = numpy.zeros(25000)\n",
        "\n",
        "for i in range(12500):\n",
        "    prefix_train_pos = 'TRAIN_POS_' + str(i)\n",
        "    prefix_train_neg = 'TRAIN_NEG_' + str(i)\n",
        "    train_arrays[i] = model.docvecs[prefix_train_pos]\n",
        "    train_arrays[12500 + i] = model.docvecs[prefix_train_neg]\n",
        "    train_labels[i] = 1\n",
        "    train_labels[12500 + i] = 0"
      ],
      "execution_count": null,
      "outputs": []
    },
    {
      "cell_type": "code",
      "metadata": {
        "colab": {
          "base_uri": "https://localhost:8080/"
        },
        "id": "uN7BSv_8LV7Y",
        "outputId": "62e36264-cf01-4a62-88b7-04b642b2061d"
      },
      "source": [
        "print (train_arrays)"
      ],
      "execution_count": null,
      "outputs": [
        {
          "output_type": "stream",
          "text": [
            "[[-1.4937489   0.97814322  0.13480209 ...  0.67164838  0.81943232\n",
            "  -0.31070155]\n",
            " [ 1.62246215 -1.70256221  4.19053555 ...  3.84320211 -3.77523804\n",
            "   2.47806525]\n",
            " [ 2.66562986  0.6054129   1.46769524 ... -1.27195287  1.16642034\n",
            "   1.80115032]\n",
            " ...\n",
            " [-3.318156    0.33329409 -1.05856085 ... -1.36672914 -0.34020638\n",
            "  -0.01758691]\n",
            " [-1.29420424 -0.93739474  0.32219309 ... -0.50540739  1.56871355\n",
            "   3.682446  ]\n",
            " [ 0.08774284 -0.68969268  0.58432537 ... -0.72339606 -0.47101033\n",
            "  -0.4646793 ]]\n"
          ],
          "name": "stdout"
        }
      ]
    },
    {
      "cell_type": "code",
      "metadata": {
        "colab": {
          "base_uri": "https://localhost:8080/"
        },
        "id": "z9QFtTQALVuT",
        "outputId": "c29a413a-5a68-4547-d67a-025323ca2e95"
      },
      "source": [
        "print (train_labels)"
      ],
      "execution_count": null,
      "outputs": [
        {
          "output_type": "stream",
          "text": [
            "[1. 1. 1. ... 0. 0. 0.]\n"
          ],
          "name": "stdout"
        }
      ]
    },
    {
      "cell_type": "code",
      "metadata": {
        "id": "kwQeSZ-xLdpv"
      },
      "source": [
        "test_arrays = numpy.zeros((25000, 100))\n",
        "test_labels = numpy.zeros(25000)\n",
        "\n",
        "for i in range(12500):\n",
        "    prefix_test_pos = 'TEST_POS_' + str(i)\n",
        "    prefix_test_neg = 'TEST_NEG_' + str(i)\n",
        "    test_arrays[i] = model.docvecs[prefix_test_pos]\n",
        "    test_arrays[12500 + i] = model.docvecs[prefix_test_neg]\n",
        "    test_labels[i] = 1\n",
        "    test_labels[12500 + i] = 0"
      ],
      "execution_count": null,
      "outputs": []
    },
    {
      "cell_type": "code",
      "metadata": {
        "colab": {
          "base_uri": "https://localhost:8080/"
        },
        "id": "r1M9wcWqLh9r",
        "outputId": "6f45b827-dd28-4b3a-9d23-27ab55b18a21"
      },
      "source": [
        "classifier = LogisticRegression()\n",
        "classifier.fit(train_arrays, train_labels)"
      ],
      "execution_count": null,
      "outputs": [
        {
          "output_type": "execute_result",
          "data": {
            "text/plain": [
              "LogisticRegression(C=1.0, class_weight=None, dual=False, fit_intercept=True,\n",
              "                   intercept_scaling=1, l1_ratio=None, max_iter=100,\n",
              "                   multi_class='auto', n_jobs=None, penalty='l2',\n",
              "                   random_state=None, solver='lbfgs', tol=0.0001, verbose=0,\n",
              "                   warm_start=False)"
            ]
          },
          "metadata": {
            "tags": []
          },
          "execution_count": 17
        }
      ]
    },
    {
      "cell_type": "code",
      "metadata": {
        "colab": {
          "base_uri": "https://localhost:8080/"
        },
        "id": "nbwK1EV9Lkod",
        "outputId": "ff2602c3-88f4-4091-a63e-e29a9970b1fc"
      },
      "source": [
        "classifier.score(test_arrays, test_labels)"
      ],
      "execution_count": null,
      "outputs": [
        {
          "output_type": "execute_result",
          "data": {
            "text/plain": [
              "0.86972"
            ]
          },
          "metadata": {
            "tags": []
          },
          "execution_count": 33
        }
      ]
    }
  ]
}